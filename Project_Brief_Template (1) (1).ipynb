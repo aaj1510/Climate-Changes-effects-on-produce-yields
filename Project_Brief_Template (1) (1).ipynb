{
 "cells": [
  {
   "cell_type": "markdown",
   "metadata": {
    "cellIdentifier": "3brax54gc92mdv5yf4bog8",
    "deletable": false,
    "editable": false,
    "nbgrader": {
     "grade": false,
     "locked": true,
     "solution": false
    }
   },
   "source": [
    "# 2D Design Template"
   ]
  },
  {
   "cell_type": "markdown",
   "metadata": {
    "cellIdentifier": "boi0tuojn2lv0a7psqnphm",
    "deletable": false,
    "editable": false,
    "nbgrader": {
     "grade": false,
     "locked": true,
     "solution": false
    }
   },
   "source": [
    "# Overview\n",
    "\n",
    "The purpose of this project is for you to apply what you have learnt in this course. This includes working with data and visualizing it, create model of linear regression, as well as using metrics to measure the accuracy of your model. \n",
    "\n",
    "Please find the project handout description in the following [link](https://edimension.sutd.edu.sg/webapps/blackboard/content/listContent.jsp?course_id=_5261_1&content_id=_184406_1).\n"
   ]
  },
  {
   "cell_type": "markdown",
   "metadata": {
    "cellIdentifier": "4h8s09nq04kexe620dnp0j",
    "deletable": false,
    "editable": false,
    "nbgrader": {
     "grade": false,
     "locked": true,
     "solution": false
    }
   },
   "source": [
    "## Deliverables\n",
    "\n",
    "You need to submit this Jupyter notebook together with the dataset into Vocareum. Use the template in this notebook to work on this project. You are free to edit or add more cells if needed"
   ]
  },
  {
   "cell_type": "markdown",
   "metadata": {
    "cellIdentifier": "d4oukr61l4snjxaqy2gn3l"
   },
   "source": [
    "## Students Submission\n",
    "\n",
    "Student's Name:\n",
    "- Alaina Jaiswal\n",
    "- Low Jiaen Phoebe\n",
    "- Siar Wei Ju\n",
    "- Pui Ling\n",
    "- Linda"
   ]
  },
  {
   "cell_type": "markdown",
   "metadata": {
    "cellIdentifier": "sugx7cl409ty0kwq55dua"
   },
   "source": [
    "### Problem Statement\n",
    "\n",
    "Describe the problem statement"
   ]
  },
  {
   "cell_type": "markdown",
   "metadata": {
    "cellIdentifier": "d88z0vga22yzgsnze3ql",
    "deletable": false,
    "editable": false,
    "nbgrader": {
     "grade": false,
     "locked": true,
     "solution": false
    }
   },
   "source": [
    "### Dataset\n",
    "\n",
    "- Describe your dataset.\n",
    "- Put the link to the sources of your raw dataset.\n",
    "- Put python codes for loading the data into pandas dataframe(s). The data should be the raw data downloaded from the source. No pre-processing using any software (excel, python, etc) yet. Include this dataset in your submission\n",
    "- Explain each column of your dataset (can use comment or markdown)\n",
    "- State which column is the dependent variable (target) and explain how it is related to your problem statement\n",
    "- State which columns are the independent variables (features) and describe your hypothesis on why these features can predict the target variable"
   ]
  },
  {
   "cell_type": "code",
   "execution_count": 1,
   "metadata": {},
   "outputs": [],
   "source": [
    "from typing import TypeAlias\n",
    "from typing import Optional, Any    \n",
    "\n",
    "Number: TypeAlias = int | float"
   ]
  },
  {
   "cell_type": "code",
   "execution_count": 2,
   "metadata": {},
   "outputs": [],
   "source": [
    "import numpy as np\n",
    "import pandas as pd\n",
    "import matplotlib.pyplot as plt\n",
    "import matplotlib.axes as axes\n",
    "import seaborn as sns\n",
    "from IPython.display import display"
   ]
  },
  {
   "cell_type": "markdown",
   "metadata": {},
   "source": [
    "#### 1. Reading the file"
   ]
  },
  {
   "cell_type": "code",
   "execution_count": null,
   "metadata": {
    "cellIdentifier": "ud3vpqunu1qpn45nwknjjd"
   },
   "outputs": [
    {
     "data": {
      "text/html": [
       "<div>\n",
       "<style scoped>\n",
       "    .dataframe tbody tr th:only-of-type {\n",
       "        vertical-align: middle;\n",
       "    }\n",
       "\n",
       "    .dataframe tbody tr th {\n",
       "        vertical-align: top;\n",
       "    }\n",
       "\n",
       "    .dataframe thead th {\n",
       "        text-align: right;\n",
       "    }\n",
       "</style>\n",
       "<table border=\"1\" class=\"dataframe\">\n",
       "  <thead>\n",
       "    <tr style=\"text-align: right;\">\n",
       "      <th></th>\n",
       "      <th>Unnamed: 0</th>\n",
       "      <th>Area</th>\n",
       "      <th>Item</th>\n",
       "      <th>Year</th>\n",
       "      <th>average_rain_fall_mm_per_year</th>\n",
       "      <th>pesticides_tonnes</th>\n",
       "      <th>avg_temp</th>\n",
       "      <th>hg/ha_yield</th>\n",
       "    </tr>\n",
       "  </thead>\n",
       "  <tbody>\n",
       "    <tr>\n",
       "      <th>0</th>\n",
       "      <td>0</td>\n",
       "      <td>Albania</td>\n",
       "      <td>Maize</td>\n",
       "      <td>1990</td>\n",
       "      <td>1485</td>\n",
       "      <td>121.0</td>\n",
       "      <td>16.37</td>\n",
       "      <td>36613</td>\n",
       "    </tr>\n",
       "    <tr>\n",
       "      <th>1</th>\n",
       "      <td>1</td>\n",
       "      <td>Albania</td>\n",
       "      <td>Potatoes</td>\n",
       "      <td>1990</td>\n",
       "      <td>1485</td>\n",
       "      <td>121.0</td>\n",
       "      <td>16.37</td>\n",
       "      <td>66667</td>\n",
       "    </tr>\n",
       "    <tr>\n",
       "      <th>2</th>\n",
       "      <td>2</td>\n",
       "      <td>Albania</td>\n",
       "      <td>Rice, paddy</td>\n",
       "      <td>1990</td>\n",
       "      <td>1485</td>\n",
       "      <td>121.0</td>\n",
       "      <td>16.37</td>\n",
       "      <td>23333</td>\n",
       "    </tr>\n",
       "    <tr>\n",
       "      <th>3</th>\n",
       "      <td>3</td>\n",
       "      <td>Albania</td>\n",
       "      <td>Sorghum</td>\n",
       "      <td>1990</td>\n",
       "      <td>1485</td>\n",
       "      <td>121.0</td>\n",
       "      <td>16.37</td>\n",
       "      <td>12500</td>\n",
       "    </tr>\n",
       "    <tr>\n",
       "      <th>4</th>\n",
       "      <td>4</td>\n",
       "      <td>Albania</td>\n",
       "      <td>Soybeans</td>\n",
       "      <td>1990</td>\n",
       "      <td>1485</td>\n",
       "      <td>121.0</td>\n",
       "      <td>16.37</td>\n",
       "      <td>7000</td>\n",
       "    </tr>\n",
       "  </tbody>\n",
       "</table>\n",
       "</div>"
      ],
      "text/plain": [
       "   Unnamed: 0     Area         Item  Year  average_rain_fall_mm_per_year  \\\n",
       "0           0  Albania        Maize  1990                           1485   \n",
       "1           1  Albania     Potatoes  1990                           1485   \n",
       "2           2  Albania  Rice, paddy  1990                           1485   \n",
       "3           3  Albania      Sorghum  1990                           1485   \n",
       "4           4  Albania     Soybeans  1990                           1485   \n",
       "\n",
       "   pesticides_tonnes  avg_temp  hg/ha_yield  \n",
       "0              121.0     16.37        36613  \n",
       "1              121.0     16.37        66667  \n",
       "2              121.0     16.37        23333  \n",
       "3              121.0     16.37        12500  \n",
       "4              121.0     16.37         7000  "
      ]
     },
     "execution_count": 7,
     "metadata": {},
     "output_type": "execute_result"
    }
   ],
   "source": [
    "# read file \"dtp_cc.csv\"\n",
    "\n",
    "df: pd.DataFrame = pd.read_csv(\"dtp_cc.csv\")\n",
    "df.head() # o/p"
   ]
  },
  {
   "cell_type": "markdown",
   "metadata": {
    "cellIdentifier": "mnalotvuhwah3o3d16kul",
    "deletable": false,
    "editable": false,
    "nbgrader": {
     "grade": false,
     "locked": true,
     "solution": false
    }
   },
   "source": [
    "### Clean & Analyze your data\n",
    "Use python code to:\n",
    "- Clean your data\n",
    "- Calculate Descriptive Statistics and other statistical analysis\n",
    "- Visualization with meaningful analysis description"
   ]
  },
  {
   "cell_type": "markdown",
   "metadata": {},
   "source": [
    "#### 2. Filtering columns\n",
    "Columns to filter:\n",
    "- Area (Countries)\n",
    "- Year\n",
    "- Item\n",
    "- average_rain_fall_mm_per_year\n",
    "- "
   ]
  },
  {
   "cell_type": "code",
   "execution_count": null,
   "metadata": {},
   "outputs": [
    {
     "data": {
      "text/html": [
       "<div>\n",
       "<style scoped>\n",
       "    .dataframe tbody tr th:only-of-type {\n",
       "        vertical-align: middle;\n",
       "    }\n",
       "\n",
       "    .dataframe tbody tr th {\n",
       "        vertical-align: top;\n",
       "    }\n",
       "\n",
       "    .dataframe thead th {\n",
       "        text-align: right;\n",
       "    }\n",
       "</style>\n",
       "<table border=\"1\" class=\"dataframe\">\n",
       "  <thead>\n",
       "    <tr style=\"text-align: right;\">\n",
       "      <th></th>\n",
       "      <th>Unnamed: 0</th>\n",
       "      <th>Area</th>\n",
       "      <th>Item</th>\n",
       "      <th>Year</th>\n",
       "      <th>average_rain_fall_mm_per_year</th>\n",
       "      <th>pesticides_tonnes</th>\n",
       "      <th>avg_temp</th>\n",
       "      <th>hg/ha_yield</th>\n",
       "    </tr>\n",
       "  </thead>\n",
       "  <tbody>\n",
       "    <tr>\n",
       "      <th>10502</th>\n",
       "      <td>10502</td>\n",
       "      <td>India</td>\n",
       "      <td>Cassava</td>\n",
       "      <td>1990</td>\n",
       "      <td>1083</td>\n",
       "      <td>75000.0</td>\n",
       "      <td>25.58</td>\n",
       "      <td>205381</td>\n",
       "    </tr>\n",
       "    <tr>\n",
       "      <th>10503</th>\n",
       "      <td>10503</td>\n",
       "      <td>India</td>\n",
       "      <td>Cassava</td>\n",
       "      <td>1990</td>\n",
       "      <td>1083</td>\n",
       "      <td>75000.0</td>\n",
       "      <td>26.88</td>\n",
       "      <td>205381</td>\n",
       "    </tr>\n",
       "    <tr>\n",
       "      <th>10504</th>\n",
       "      <td>10504</td>\n",
       "      <td>India</td>\n",
       "      <td>Cassava</td>\n",
       "      <td>1990</td>\n",
       "      <td>1083</td>\n",
       "      <td>75000.0</td>\n",
       "      <td>25.79</td>\n",
       "      <td>205381</td>\n",
       "    </tr>\n",
       "    <tr>\n",
       "      <th>10505</th>\n",
       "      <td>10505</td>\n",
       "      <td>India</td>\n",
       "      <td>Cassava</td>\n",
       "      <td>1990</td>\n",
       "      <td>1083</td>\n",
       "      <td>75000.0</td>\n",
       "      <td>24.10</td>\n",
       "      <td>205381</td>\n",
       "    </tr>\n",
       "    <tr>\n",
       "      <th>10506</th>\n",
       "      <td>10506</td>\n",
       "      <td>India</td>\n",
       "      <td>Cassava</td>\n",
       "      <td>1990</td>\n",
       "      <td>1083</td>\n",
       "      <td>75000.0</td>\n",
       "      <td>25.25</td>\n",
       "      <td>205381</td>\n",
       "    </tr>\n",
       "    <tr>\n",
       "      <th>...</th>\n",
       "      <td>...</td>\n",
       "      <td>...</td>\n",
       "      <td>...</td>\n",
       "      <td>...</td>\n",
       "      <td>...</td>\n",
       "      <td>...</td>\n",
       "      <td>...</td>\n",
       "      <td>...</td>\n",
       "    </tr>\n",
       "    <tr>\n",
       "      <th>15373</th>\n",
       "      <td>15373</td>\n",
       "      <td>Indonesia</td>\n",
       "      <td>Sweet potatoes</td>\n",
       "      <td>2013</td>\n",
       "      <td>2702</td>\n",
       "      <td>1597.0</td>\n",
       "      <td>27.37</td>\n",
       "      <td>147465</td>\n",
       "    </tr>\n",
       "    <tr>\n",
       "      <th>15374</th>\n",
       "      <td>15374</td>\n",
       "      <td>Indonesia</td>\n",
       "      <td>Sweet potatoes</td>\n",
       "      <td>2013</td>\n",
       "      <td>2702</td>\n",
       "      <td>1597.0</td>\n",
       "      <td>27.88</td>\n",
       "      <td>147465</td>\n",
       "    </tr>\n",
       "    <tr>\n",
       "      <th>15375</th>\n",
       "      <td>15375</td>\n",
       "      <td>Indonesia</td>\n",
       "      <td>Sweet potatoes</td>\n",
       "      <td>2013</td>\n",
       "      <td>2702</td>\n",
       "      <td>1597.0</td>\n",
       "      <td>27.34</td>\n",
       "      <td>147465</td>\n",
       "    </tr>\n",
       "    <tr>\n",
       "      <th>15376</th>\n",
       "      <td>15376</td>\n",
       "      <td>Indonesia</td>\n",
       "      <td>Sweet potatoes</td>\n",
       "      <td>2013</td>\n",
       "      <td>2702</td>\n",
       "      <td>1597.0</td>\n",
       "      <td>26.72</td>\n",
       "      <td>147465</td>\n",
       "    </tr>\n",
       "    <tr>\n",
       "      <th>15377</th>\n",
       "      <td>15377</td>\n",
       "      <td>Indonesia</td>\n",
       "      <td>Sweet potatoes</td>\n",
       "      <td>2013</td>\n",
       "      <td>2702</td>\n",
       "      <td>1597.0</td>\n",
       "      <td>27.30</td>\n",
       "      <td>147465</td>\n",
       "    </tr>\n",
       "  </tbody>\n",
       "</table>\n",
       "<p>4876 rows × 8 columns</p>\n",
       "</div>"
      ],
      "text/plain": [
       "       Unnamed: 0       Area            Item  Year  \\\n",
       "10502       10502      India         Cassava  1990   \n",
       "10503       10503      India         Cassava  1990   \n",
       "10504       10504      India         Cassava  1990   \n",
       "10505       10505      India         Cassava  1990   \n",
       "10506       10506      India         Cassava  1990   \n",
       "...           ...        ...             ...   ...   \n",
       "15373       15373  Indonesia  Sweet potatoes  2013   \n",
       "15374       15374  Indonesia  Sweet potatoes  2013   \n",
       "15375       15375  Indonesia  Sweet potatoes  2013   \n",
       "15376       15376  Indonesia  Sweet potatoes  2013   \n",
       "15377       15377  Indonesia  Sweet potatoes  2013   \n",
       "\n",
       "       average_rain_fall_mm_per_year  pesticides_tonnes  avg_temp  hg/ha_yield  \n",
       "10502                           1083            75000.0     25.58       205381  \n",
       "10503                           1083            75000.0     26.88       205381  \n",
       "10504                           1083            75000.0     25.79       205381  \n",
       "10505                           1083            75000.0     24.10       205381  \n",
       "10506                           1083            75000.0     25.25       205381  \n",
       "...                              ...                ...       ...          ...  \n",
       "15373                           2702             1597.0     27.37       147465  \n",
       "15374                           2702             1597.0     27.88       147465  \n",
       "15375                           2702             1597.0     27.34       147465  \n",
       "15376                           2702             1597.0     26.72       147465  \n",
       "15377                           2702             1597.0     27.30       147465  \n",
       "\n",
       "[4876 rows x 8 columns]"
      ]
     },
     "metadata": {},
     "output_type": "display_data"
    }
   ],
   "source": [
    "df: pd.DataFrame = pd.read_csv(\"dtp_cc.csv\")\n",
    "\n",
    "countries = ['India', 'Indonesia']\n",
    "\n",
    "# df['Area'] = looking into Area column, .isin(countries) = filtering out wanted countries\n",
    "df_features = df[df['Area'].isin(countries)]\n",
    "display(df_features)"
   ]
  },
  {
   "cell_type": "code",
   "execution_count": null,
   "metadata": {
    "cellIdentifier": "drintkqv74g03a98h37kr7a"
   },
   "outputs": [],
   "source": [
    "columns: list[str] = [\"Area\"]\n",
    "\n",
    "df_feature: pd.DataFrame = df[columns]\n",
    "\n",
    "\n",
    "#print(countries)"
   ]
  },
  {
   "cell_type": "code",
   "execution_count": null,
   "metadata": {},
   "outputs": [],
   "source": [
    "def get_features_targets(df: pd.DataFrame, \n",
    "                         feature_names: list[str], \n",
    "                         target_names: list[str]) -> tuple[pd.DataFrame, pd.DataFrame]:\n",
    "    ###\n",
    "    # locating the feature and target for o/p and returned as new data frame\n",
    "    df_feature = df.loc[:, feature_names]\n",
    "    df_target = df.loc[:, target_names]\n",
    "    ###\n",
    "    pass\n",
    "    return df_feature, df_target\n",
    "\n",
    "df: pd.DataFrame = pd.read_csv(\"housing_processed.csv\")\n",
    "df_feature, df_target = get_features_targets(df,[\"RM\"],[\"MEDV\"])\n",
    "array_feature,_,_ = normalize_z(df_feature.to_numpy())"
   ]
  },
  {
   "cell_type": "code",
   "execution_count": 4,
   "metadata": {
    "cellIdentifier": "llzyf0wxva9qcb5sqwe4ip"
   },
   "outputs": [],
   "source": [
    "# descriptive statistics"
   ]
  },
  {
   "cell_type": "code",
   "execution_count": 5,
   "metadata": {
    "cellIdentifier": "pvcupguct9c8fggigcezh"
   },
   "outputs": [],
   "source": [
    "# visualization with analysis"
   ]
  },
  {
   "cell_type": "markdown",
   "metadata": {
    "cellIdentifier": "5spy1s2ji3345y1uunm7es",
    "deletable": false,
    "editable": false,
    "nbgrader": {
     "grade": false,
     "locked": true,
     "solution": false
    }
   },
   "source": [
    "### Features and Target Preparation\n",
    "\n",
    "Prepare features and target for model training."
   ]
  },
  {
   "cell_type": "code",
   "execution_count": null,
   "metadata": {
    "cellIdentifier": "x1leu6b5aph6akcqy9stf4",
    "collapsed": true,
    "jupyter": {
     "outputs_hidden": true
    }
   },
   "outputs": [],
   "source": []
  },
  {
   "cell_type": "markdown",
   "metadata": {
    "cellIdentifier": "wyzlafckek8h4t0nsibxr",
    "deletable": false,
    "editable": false,
    "nbgrader": {
     "grade": false,
     "locked": true,
     "solution": false
    }
   },
   "source": [
    "### Building Model\n",
    "\n",
    "Use python code to build your model. Give explanation on this process."
   ]
  },
  {
   "cell_type": "code",
   "execution_count": null,
   "metadata": {
    "cellIdentifier": "nkl339hcc1g22vccuogg2o",
    "collapsed": true,
    "jupyter": {
     "outputs_hidden": true
    }
   },
   "outputs": [],
   "source": [
    "# put Python code to build your model"
   ]
  },
  {
   "cell_type": "markdown",
   "metadata": {
    "cellIdentifier": "2unt7l8s45pvvfr8i0j0ka",
    "deletable": false,
    "editable": false,
    "nbgrader": {
     "grade": false,
     "locked": true,
     "solution": false
    }
   },
   "source": [
    "### Evaluating the Model\n",
    "\n",
    "- Describe the metrics of your choice\n",
    "- Evaluate your model performance"
   ]
  },
  {
   "cell_type": "code",
   "execution_count": 6,
   "metadata": {
    "cellIdentifier": "0pc6mmhipg0b5twb6ag1td"
   },
   "outputs": [],
   "source": [
    "# put Python code to test & evaluate the model"
   ]
  },
  {
   "cell_type": "markdown",
   "metadata": {
    "cellIdentifier": "hnrervpc9ood1trkd0ku3c",
    "deletable": false,
    "editable": false,
    "nbgrader": {
     "grade": false,
     "locked": true,
     "solution": false
    }
   },
   "source": [
    "### Improving the Model\n",
    "\n",
    "- Improve the models by performing any data processing techniques or hyperparameter tuning.\n",
    "- You can repeat the steps above to show the improvement as compared to the previous performance\n",
    "\n",
    "Note:\n",
    "- You should not change or add dataset at this step\n",
    "- You are allowed to use library such as sklearn for data processing (NOT for building model)\n",
    "- Make sure to have the same test dataset so the results are comparable with the previous model \n",
    "- If you perform hyperparameter tuning, it will require you to split your training data further into train and validation dataset"
   ]
  },
  {
   "cell_type": "code",
   "execution_count": null,
   "metadata": {
    "cellIdentifier": "x3anvx5y9u9s2x85i5gnwa"
   },
   "outputs": [],
   "source": [
    "# Re-iterate the steps above with improvement"
   ]
  },
  {
   "cell_type": "markdown",
   "metadata": {
    "cellIdentifier": "c9ywqckb64avu5qr8n5i2",
    "deletable": false,
    "editable": false,
    "nbgrader": {
     "grade": false,
     "locked": true,
     "solution": false
    }
   },
   "source": [
    "### Discussion and Analysis\n",
    "\n",
    "- Analyze the results of your metrics.\n",
    "- Explain how does your analysis and machine learning help to solve your problem statement.\n",
    "- Conclusion"
   ]
  },
  {
   "cell_type": "markdown",
   "metadata": {
    "cellIdentifier": "8pdxldawaydxaekkynrcgk"
   },
   "source": []
  }
 ],
 "metadata": {
  "kernelspec": {
   "display_name": "Python 3",
   "language": "python",
   "name": "python3"
  },
  "language_info": {
   "codemirror_mode": {
    "name": "ipython",
    "version": 3
   },
   "file_extension": ".py",
   "mimetype": "text/x-python",
   "name": "python",
   "nbconvert_exporter": "python",
   "pygments_lexer": "ipython3",
   "version": "3.11.9"
  }
 },
 "nbformat": 4,
 "nbformat_minor": 4
}
